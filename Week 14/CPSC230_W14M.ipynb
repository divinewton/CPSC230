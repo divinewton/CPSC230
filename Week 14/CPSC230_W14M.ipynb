{
 "cells": [
  {
   "cell_type": "markdown",
   "metadata": {},
   "source": [
    "## Installation\n",
    "You should just be able to install using \"pip install jupyterLab\"\n",
    "                                     and \"pip install notebook\"\n",
    "\n",
    "## Other options\n",
    "Or you can use the browser https://jupyter.org/try-jupyter/lab/?path=notebooks%2FIntro.ipynb"
   ]
  },
  {
   "cell_type": "code",
   "execution_count": null,
   "metadata": {},
   "outputs": [],
   "source": [
    "# This is Code\n",
    "print(\"Hello Jupyter!\")"
   ]
  },
  {
   "cell_type": "markdown",
   "metadata": {},
   "source": [
    "## This is text\n",
    "Below is a function that will print the user's name"
   ]
  },
  {
   "cell_type": "code",
   "execution_count": null,
   "metadata": {},
   "outputs": [],
   "source": [
    "def say_hello(recipient):\n",
    "    return str(\"Hello, \" + recipient + \"!!\")\n",
    "\n",
    "say_hello('Cas')"
   ]
  },
  {
   "cell_type": "code",
   "execution_count": null,
   "metadata": {},
   "outputs": [],
   "source": [
    "# This won't work without running the previous chunk\n",
    "say_hello(\"George\")"
   ]
  },
  {
   "cell_type": "markdown",
   "metadata": {},
   "source": [
    "## Libraries\n",
    "Remember, you can install these by entering \"pip install numpy\" into the terminal"
   ]
  },
  {
   "cell_type": "code",
   "execution_count": null,
   "metadata": {},
   "outputs": [],
   "source": [
    "#vimport numpy as np\n",
    "import pandas as pd\n",
    "import matplotlib.pyplot as plt\n",
    "import seaborn as sns"
   ]
  },
  {
   "cell_type": "markdown",
   "metadata": {},
   "source": [
    "Read in Data"
   ]
  },
  {
   "cell_type": "code",
   "execution_count": null,
   "metadata": {},
   "outputs": [],
   "source": [
    "MatData = pd.read_csv('MatTesting.csv') \n",
    "type(MatData)\n",
    "print(MatData.head(5))"
   ]
  },
  {
   "cell_type": "markdown",
   "metadata": {},
   "source": [
    "Plotting"
   ]
  },
  {
   "cell_type": "code",
   "execution_count": null,
   "metadata": {},
   "outputs": [],
   "source": [
    "# create a grouped boxplot using seaborn\n",
    "sns.boxplot(data = MatData, \n",
    "            x = 'shape', \n",
    "            y = 'MaxLoad', \n",
    "            hue = 'spacing')"
   ]
  },
  {
   "cell_type": "code",
   "execution_count": null,
   "metadata": {},
   "outputs": [],
   "source": [
    "#matplotlib scatter plots\n",
    "plt.scatter(MatData['spacing'], MatData['MaxLoad'], c =\"blue\")\n",
    " \n",
    "# To show the plot\n",
    "plt.show()"
   ]
  },
  {
   "cell_type": "code",
   "execution_count": null,
   "metadata": {},
   "outputs": [],
   "source": [
    "# seaborn grouped scatter plots\n",
    "sns.relplot(data = MatData, \n",
    "            x = 'spacing', \n",
    "            y = 'MaxLoad', \n",
    "            hue = 'shape')"
   ]
  },
  {
   "cell_type": "code",
   "execution_count": null,
   "metadata": {},
   "outputs": [],
   "source": [
    "# first new plot\n",
    "sns.boxplot(data = MatData, \n",
    "            x = 'shape', \n",
    "            y = 'MaxIndex', \n",
    "            hue = 'cycle')"
   ]
  },
  {
   "cell_type": "code",
   "execution_count": null,
   "metadata": {},
   "outputs": [],
   "source": [
    "# second new plot\n",
    "plt.scatter(MatData['cycle'], MatData['MaxLoad'], c =\"red\")\n",
    "plt.show()"
   ]
  },
  {
   "cell_type": "code",
   "execution_count": null,
   "metadata": {},
   "outputs": [],
   "source": [
    "# third new plot\n",
    "sns.relplot(data = MatData, \n",
    "            x = 'shape', \n",
    "            y = 'MaxExt', \n",
    "            hue = 'spacing')"
   ]
  },
  {
   "cell_type": "markdown",
   "metadata": {},
   "source": [
    "Summary Statistics"
   ]
  },
  {
   "cell_type": "code",
   "execution_count": null,
   "metadata": {},
   "outputs": [],
   "source": [
    "## what is the median work done?\n",
    "MatData[\"Work\"].mean()\n",
    "## print and round to two decimal places\n",
    "print(\"Mean work is:\", round(MatData[\"Work\"].mean(),2))\n",
    "\n",
    "## summary statiscits (means, standard deviation, quartiles, etc)\n",
    "MatData.describe()"
   ]
  },
  {
   "cell_type": "markdown",
   "metadata": {},
   "source": [
    "Group Summary Statistics"
   ]
  },
  {
   "cell_type": "code",
   "execution_count": null,
   "metadata": {},
   "outputs": [],
   "source": [
    "## print out means by shape\n",
    "print(MatData[\"Work\"].groupby(MatData[\"shape\"]).mean())\n",
    "\n",
    "## print out means of all numeric values\n",
    "MatData.groupby(\"shape\").mean(numeric_only=True)"
   ]
  },
  {
   "cell_type": "markdown",
   "metadata": {},
   "source": [
    "## More advanced statistics\n",
    "https://towardsdatascience.com/anova-t-test-and-other-statistical-tests-with-python-e7a36a2fdc0c"
   ]
  },
  {
   "cell_type": "code",
   "execution_count": null,
   "metadata": {},
   "outputs": [],
   "source": [
    "## stats libraries\n",
    "from scipy import stats\n",
    "import pingouin as pg\n",
    "from statsmodels.multivariate.manova import MANOVA"
   ]
  },
  {
   "cell_type": "code",
   "execution_count": null,
   "metadata": {},
   "outputs": [],
   "source": [
    "## Group your data by shape for t-tests\n",
    "circle = MatData[(MatData['shape'] == 'Circle')]\n",
    "triangle = MatData[(MatData['shape'] == 'Triangle')]\n",
    "diamond = MatData[(MatData['shape'] == 'Diamond')]\n",
    "hexagon = MatData[(MatData['shape'] == 'Hexagon')]\n",
    "\n",
    "# test whether there is a difference between circle and diamond\n",
    "#print(stats.ttest_ind(circle['MaxLoad'], diamond['MaxLoad']))\n",
    "\n",
    "## for more complicated data use pingouin\n",
    "# use anova to determine if there is a difference between all your groups\n",
    "aov = pg.anova(data=MatData, dv='MaxLoad', between='shape', detailed=True)\n",
    "#print(aov)\n",
    "\n",
    "## use a paired t-test to determine exactly which groups are different\n",
    "ttest = pg.pairwise_tests(data=MatData, dv='MaxLoad', between='shape').round(5)\n",
    "#print(ttest)"
   ]
  }
 ],
 "metadata": {
  "kernelspec": {
   "display_name": "Python 3",
   "language": "python",
   "name": "python3"
  },
  "language_info": {
   "codemirror_mode": {
    "name": "ipython",
    "version": 3
   },
   "file_extension": ".py",
   "mimetype": "text/x-python",
   "name": "python",
   "nbconvert_exporter": "python",
   "pygments_lexer": "ipython3",
   "version": "3.9.6"
  }
 },
 "nbformat": 4,
 "nbformat_minor": 2
}
